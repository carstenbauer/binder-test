{
 "cells": [
  {
   "cell_type": "code",
   "execution_count": 1,
   "metadata": {},
   "outputs": [],
   "source": [
    "using BenchmarkTools"
   ]
  },
  {
   "cell_type": "code",
   "execution_count": 2,
   "metadata": {},
   "outputs": [
    {
     "name": "stdout",
     "output_type": "stream",
     "text": [
      "  0.001 ns (0 allocations: 0 bytes)\n"
     ]
    },
    {
     "data": {
      "text/plain": [
       "6"
      ]
     },
     "execution_count": 2,
     "metadata": {},
     "output_type": "execute_result"
    }
   ],
   "source": [
    "@btime 3+3"
   ]
  },
  {
   "cell_type": "code",
   "execution_count": 3,
   "metadata": {},
   "outputs": [
    {
     "data": {
      "text/plain": [
       "8"
      ]
     },
     "execution_count": 3,
     "metadata": {},
     "output_type": "execute_result"
    }
   ],
   "source": [
    "4+4"
   ]
  },
  {
   "cell_type": "code",
   "execution_count": 5,
   "metadata": {},
   "outputs": [],
   "source": [
    "using PyPlot"
   ]
  },
  {
   "cell_type": "code",
   "execution_count": 6,
   "metadata": {},
   "outputs": [
    {
     "data": {
      "image/png": "[encoded data removed]",
      "text/plain": [
       "Figure(PyObject <Figure size 640x480 with 1 Axes>)"
      ]
     },
     "metadata": {},
     "output_type": "display_data"
    },
    {
     "data": {
      "text/plain": [
       "1-element Array{PyCall.PyObject,1}:\n",
       " PyObject <matplotlib.lines.Line2D object at 0x0000000045145668>"
      ]
     },
     "execution_count": 6,
     "metadata": {},
     "output_type": "execute_result"
    }
   ],
   "source": [
    "plot(rand(10), \"-o\")"
   ]
  },
  {
   "cell_type": "code",
   "execution_count": 7,
   "metadata": {},
   "outputs": [],
   "source": [
    "# [deps]\n",
    "# ArnoldiMethod = \"ec485272-7323-5ecc-a04f-4719b315124d\"\n",
    "# Arpack = \"7d9fca2a-8960-54d3-9f78-7d1dccf2cb97\"\n",
    "# BenchmarkTools = \"6e4b80f9-dd63-53aa-95a3-0cdb28fa8baf\"\n",
    "# Colors = \"5ae59095-9a9b-59fe-a467-6f913c188581\"\n",
    "# DistributedArrays = \"aaf54ef3-cdf8-58ed-94cc-d582ad619b94\"\n",
    "# Flux = \"587475ba-b771-5e3f-ad9e-33799f191a9c\"\n",
    "# ForwardDiff = \"f6369f11-7733-5829-9624-2563aa707210\"\n",
    "# GenericLinearAlgebra = \"14197337-ba66-59df-a3e3-ca00e7dcff7a\"\n",
    "# Hwloc = \"0e44f5e4-bd66-52a0-8798-143a42290a1d\"\n",
    "# Interact = \"c601a237-2ae4-5e1e-952c-7a85b0c7eef1\"\n",
    "# JLD2 = \"033835bb-8acc-5ee8-8aae-3f567f8a3819\"\n",
    "# KrylovKit = \"0b1a1467-8014-51b9-945f-bf0ae24f4b77\"\n",
    "# Measurements = \"eff96d63-e80a-5855-80a2-b1b0885c5ab7\"\n",
    "# OrdinaryDiffEq = \"1dea7af3-3e70-54e6-95c3-0bf5283fa5ed\"\n",
    "# Plots = \"91a5bcdd-55d7-5caf-9e0b-520d859cae80\"\n",
    "# ProfileView = \"c46f51b8-102a-5cf2-8d2c-8597cb0e0da7\"\n",
    "# PyCall = \"438e738f-606a-5dbb-bf0a-cddfbfd45ab0\"\n",
    "# PyPlot = \"d330b81b-6aea-500a-939a-2ce795aea3ee\"\n",
    "# ReverseDiff = \"37e2e3b7-166d-5795-8a7a-e32c996b4267\"\n",
    "# SpecialFunctions = \"276daf66-3868-5448-9aa4-cd146d93841b\"\n",
    "# StaticArrays = \"90137ffa-7385-5640-81b9-e52037218182\"\n",
    "# SymPy = \"24249f21-da20-56a4-8eb1-6a02cf4ae2e6\"\n",
    "# Traceur = \"37b6cedf-1f77-55f8-9503-c64b63398394\"\n"
   ]
  },
  {
   "cell_type": "code",
   "execution_count": 8,
   "metadata": {},
   "outputs": [
    {
     "name": "stdout",
     "output_type": "stream",
     "text": [
      "\u001b[32m\u001b[1m Resolving\u001b[22m\u001b[39m package versions...\n",
      "\u001b[32m\u001b[1m  Updating\u001b[22m\u001b[39m `C:\\Users\\carsten\\Desktop\\binder-test\\Project.toml`\n",
      " \u001b[90m [91a5bcdd]\u001b[39m\u001b[92m + Plots v0.27.0\u001b[39m\n",
      "\u001b[32m\u001b[1m  Updating\u001b[22m\u001b[39m `C:\\Users\\carsten\\Desktop\\binder-test\\Manifest.toml`\n",
      " \u001b[90m [b99e7846]\u001b[39m\u001b[92m + BinaryProvider v0.5.7\u001b[39m\n",
      " \u001b[90m [d38c429a]\u001b[39m\u001b[92m + Contour v0.5.1\u001b[39m\n",
      " \u001b[90m [9a962f9c]\u001b[39m\u001b[92m + DataAPI v1.1.0\u001b[39m\n",
      " \u001b[90m [c87230d0]\u001b[39m\u001b[92m + FFMPEG v0.2.3\u001b[39m\n",
      " \u001b[90m [28b8d3ca]\u001b[39m\u001b[92m + GR v0.42.0\u001b[39m\n",
      " \u001b[90m [4d00f742]\u001b[39m\u001b[92m + GeometryTypes v0.7.6\u001b[39m\n",
      " \u001b[90m [c8e1da08]\u001b[39m\u001b[92m + IterTools v1.2.0\u001b[39m\n",
      " \u001b[90m [442fdcdd]\u001b[39m\u001b[92m + Measures v0.3.0\u001b[39m\n",
      " \u001b[90m [e1d29d7a]\u001b[39m\u001b[92m + Missings v0.4.3\u001b[39m\n",
      " \u001b[90m [77ba4419]\u001b[39m\u001b[92m + NaNMath v0.3.2\u001b[39m\n",
      " \u001b[90m [ccf2f8ad]\u001b[39m\u001b[92m + PlotThemes v0.4.0\u001b[39m\n",
      " \u001b[90m [995b91a9]\u001b[39m\u001b[92m + PlotUtils v0.6.0\u001b[39m\n",
      " \u001b[90m [91a5bcdd]\u001b[39m\u001b[92m + Plots v0.27.0\u001b[39m\n",
      " \u001b[90m [3cdcf5f2]\u001b[39m\u001b[92m + RecipesBase v0.7.0\u001b[39m\n",
      " \u001b[90m [ae029012]\u001b[39m\u001b[92m + Requires v0.5.2\u001b[39m\n",
      " \u001b[90m [992d4aef]\u001b[39m\u001b[92m + Showoff v0.3.1\u001b[39m\n",
      " \u001b[90m [a2af1166]\u001b[39m\u001b[92m + SortingAlgorithms v0.3.1\u001b[39m\n",
      " \u001b[90m [90137ffa]\u001b[39m\u001b[92m + StaticArrays v0.11.1\u001b[39m\n",
      " \u001b[90m [2913bbd2]\u001b[39m\u001b[92m + StatsBase v0.32.0\u001b[39m\n"
     ]
    }
   ],
   "source": [
    "] add Plots"
   ]
  },
  {
   "cell_type": "code",
   "execution_count": 9,
   "metadata": {},
   "outputs": [
    {
     "name": "stdout",
     "output_type": "stream",
     "text": [
      "\u001b[32m\u001b[1m Resolving\u001b[22m\u001b[39m package versions...\n",
      "\u001b[32m\u001b[1m Installed\u001b[22m\u001b[39m GenericLinearAlgebra ─ v0.2.0\n",
      "\u001b[32m\u001b[1m Installed\u001b[22m\u001b[39m ForwardDiff ────────── v0.10.4\n",
      "\u001b[32m\u001b[1m Installed\u001b[22m\u001b[39m KrylovKit ──────────── v0.4.0\n",
      "\u001b[32m\u001b[1m Installed\u001b[22m\u001b[39m DistributedArrays ──── v0.6.4\n",
      "\u001b[32m\u001b[1m  Updating\u001b[22m\u001b[39m `C:\\Users\\carsten\\Desktop\\binder-test\\Project.toml`\n",
      " \u001b[90m [ec485272]\u001b[39m\u001b[92m + ArnoldiMethod v0.0.4\u001b[39m\n",
      " \u001b[90m [5ae59095]\u001b[39m\u001b[92m + Colors v0.9.6\u001b[39m\n",
      " \u001b[90m [aaf54ef3]\u001b[39m\u001b[92m + DistributedArrays v0.6.4\u001b[39m\n",
      " \u001b[90m [f6369f11]\u001b[39m\u001b[92m + ForwardDiff v0.10.4\u001b[39m\n",
      " \u001b[90m [14197337]\u001b[39m\u001b[92m + GenericLinearAlgebra v0.2.0\u001b[39m\n",
      " \u001b[90m [0e44f5e4]\u001b[39m\u001b[92m + Hwloc v1.0.3\u001b[39m\n",
      " \u001b[90m [0b1a1467]\u001b[39m\u001b[92m + KrylovKit v0.4.0\u001b[39m\n",
      " \u001b[90m [90137ffa]\u001b[39m\u001b[92m + StaticArrays v0.11.1\u001b[39m\n",
      "\u001b[32m\u001b[1m  Updating\u001b[22m\u001b[39m `C:\\Users\\carsten\\Desktop\\binder-test\\Manifest.toml`\n",
      " \u001b[90m [ec485272]\u001b[39m\u001b[92m + ArnoldiMethod v0.0.4\u001b[39m\n",
      " \u001b[90m [9e28174c]\u001b[39m\u001b[92m + BinDeps v0.8.10\u001b[39m\n",
      " \u001b[90m [bbf7d656]\u001b[39m\u001b[92m + CommonSubexpressions v0.2.0\u001b[39m\n",
      " \u001b[90m [163ba53b]\u001b[39m\u001b[92m + DiffResults v0.0.4\u001b[39m\n",
      " \u001b[90m [b552c78f]\u001b[39m\u001b[92m + DiffRules v0.0.10\u001b[39m\n",
      " \u001b[90m [aaf54ef3]\u001b[39m\u001b[92m + DistributedArrays v0.6.4\u001b[39m\n",
      " \u001b[90m [f6369f11]\u001b[39m\u001b[92m + ForwardDiff v0.10.4\u001b[39m\n",
      " \u001b[90m [14197337]\u001b[39m\u001b[92m + GenericLinearAlgebra v0.2.0\u001b[39m\n",
      " \u001b[90m [0e44f5e4]\u001b[39m\u001b[92m + Hwloc v1.0.3\u001b[39m\n",
      " \u001b[90m [0b1a1467]\u001b[39m\u001b[92m + KrylovKit v0.4.0\u001b[39m\n",
      " \u001b[90m [27ebfcd6]\u001b[39m\u001b[92m + Primes v0.4.0\u001b[39m\n",
      " \u001b[90m [276daf66]\u001b[39m\u001b[92m + SpecialFunctions v0.8.0\u001b[39m\n",
      " \u001b[90m [30578b45]\u001b[39m\u001b[92m + URIParser v0.4.0\u001b[39m\n"
     ]
    }
   ],
   "source": [
    "] add Colors DistributedArrays StaticArrays ArnoldiMethod KrylovKit Hwloc ForwardDiff GenericLinearAlgebra"
   ]
  },
  {
   "cell_type": "code",
   "execution_count": 10,
   "metadata": {},
   "outputs": [
    {
     "name": "stdout",
     "output_type": "stream",
     "text": [
      "\u001b[32m\u001b[1m Resolving\u001b[22m\u001b[39m package versions...\n",
      "\u001b[32m\u001b[1m Installed\u001b[22m\u001b[39m Measurements ─ v2.1.1\n",
      "\u001b[32m\u001b[1m  Updating\u001b[22m\u001b[39m `C:\\Users\\carsten\\Desktop\\binder-test\\Project.toml`\n",
      " \u001b[90m [eff96d63]\u001b[39m\u001b[92m + Measurements v2.1.1\u001b[39m\n",
      "\u001b[32m\u001b[1m  Updating\u001b[22m\u001b[39m `C:\\Users\\carsten\\Desktop\\binder-test\\Manifest.toml`\n",
      " \u001b[90m [49dc2e85]\u001b[39m\u001b[92m + Calculus v0.5.0\u001b[39m\n",
      " \u001b[90m [eff96d63]\u001b[39m\u001b[92m + Measurements v2.1.1\u001b[39m\n"
     ]
    }
   ],
   "source": [
    "] add Measurements"
   ]
  },
  {
   "cell_type": "code",
   "execution_count": 11,
   "metadata": {},
   "outputs": [
    {
     "name": "stdout",
     "output_type": "stream",
     "text": [
      "\u001b[32m\u001b[1m Resolving\u001b[22m\u001b[39m package versions...\n",
      "\u001b[32m\u001b[1m Installed\u001b[22m\u001b[39m JLD2 ─ v0.1.3\n",
      "\u001b[32m\u001b[1m  Updating\u001b[22m\u001b[39m `C:\\Users\\carsten\\Desktop\\binder-test\\Project.toml`\n",
      " \u001b[90m [033835bb]\u001b[39m\u001b[92m + JLD2 v0.1.3\u001b[39m\n",
      "\u001b[32m\u001b[1m  Updating\u001b[22m\u001b[39m `C:\\Users\\carsten\\Desktop\\binder-test\\Manifest.toml`\n",
      " \u001b[90m [944b1d66]\u001b[39m\u001b[92m + CodecZlib v0.6.0\u001b[39m\n",
      " \u001b[90m [5789e2e9]\u001b[39m\u001b[92m + FileIO v1.0.7\u001b[39m\n",
      " \u001b[90m [033835bb]\u001b[39m\u001b[92m + JLD2 v0.1.3\u001b[39m\n",
      " \u001b[90m [3bb67fe8]\u001b[39m\u001b[92m + TranscodingStreams v0.9.5\u001b[39m\n"
     ]
    }
   ],
   "source": [
    "] add JLD2"
   ]
  },
  {
   "cell_type": "code",
   "execution_count": null,
   "metadata": {},
   "outputs": [],
   "source": []
  }
 ],
 "metadata": {
  "kernelspec": {
   "display_name": "Julia 1.2.0",
   "language": "julia",
   "name": "julia-1.2"
  },
  "language_info": {
   "file_extension": ".jl",
   "mimetype": "application/julia",
   "name": "julia",
   "version": "1.2.0"
  }
 },
 "nbformat": 4,
 "nbformat_minor": 2
}
